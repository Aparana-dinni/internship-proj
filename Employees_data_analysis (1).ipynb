{
 "cells": [
  {
   "cell_type": "markdown",
   "id": "d3033ee9",
   "metadata": {},
   "source": [
    "### Import required libraries"
   ]
  },
  {
   "cell_type": "code",
   "execution_count": 5,
   "id": "9b1cb7ee",
   "metadata": {},
   "outputs": [],
   "source": [
    "import pandas as pd\n",
    "import numpy as np\n",
    "import matplotlib.pyplot as plt\n",
    "import seaborn as sns\n",
    "import plotly.express as px\n",
    "import plotly.graph_objects as go"
   ]
  },
  {
   "cell_type": "markdown",
   "id": "a9a0e270",
   "metadata": {},
   "source": [
    "### Load and read the dataset"
   ]
  },
  {
   "cell_type": "code",
   "execution_count": 46,
   "id": "d86121b8",
   "metadata": {},
   "outputs": [
    {
     "data": {
      "text/html": [
       "<div>\n",
       "<style scoped>\n",
       "    .dataframe tbody tr th:only-of-type {\n",
       "        vertical-align: middle;\n",
       "    }\n",
       "\n",
       "    .dataframe tbody tr th {\n",
       "        vertical-align: top;\n",
       "    }\n",
       "\n",
       "    .dataframe thead th {\n",
       "        text-align: right;\n",
       "    }\n",
       "</style>\n",
       "<table border=\"1\" class=\"dataframe\">\n",
       "  <thead>\n",
       "    <tr style=\"text-align: right;\">\n",
       "      <th></th>\n",
       "      <th>Unnamed: 0</th>\n",
       "      <th>ID</th>\n",
       "      <th>Salary</th>\n",
       "      <th>DOJ</th>\n",
       "      <th>DOL</th>\n",
       "      <th>Designation</th>\n",
       "      <th>JobCity</th>\n",
       "      <th>Gender</th>\n",
       "      <th>DOB</th>\n",
       "      <th>10percentage</th>\n",
       "      <th>10board</th>\n",
       "      <th>12graduation</th>\n",
       "      <th>12percentage</th>\n",
       "      <th>12board</th>\n",
       "      <th>CollegeID</th>\n",
       "      <th>CollegeTier</th>\n",
       "      <th>Degree</th>\n",
       "      <th>Specialization</th>\n",
       "      <th>collegeGPA</th>\n",
       "      <th>CollegeCityID</th>\n",
       "      <th>CollegeCityTier</th>\n",
       "      <th>CollegeState</th>\n",
       "      <th>GraduationYear</th>\n",
       "      <th>English</th>\n",
       "      <th>Logical</th>\n",
       "      <th>Quant</th>\n",
       "      <th>Domain</th>\n",
       "      <th>ComputerProgramming</th>\n",
       "      <th>ElectronicsAndSemicon</th>\n",
       "      <th>ComputerScience</th>\n",
       "      <th>MechanicalEngg</th>\n",
       "      <th>ElectricalEngg</th>\n",
       "      <th>TelecomEngg</th>\n",
       "      <th>CivilEngg</th>\n",
       "      <th>conscientiousness</th>\n",
       "      <th>agreeableness</th>\n",
       "      <th>extraversion</th>\n",
       "      <th>nueroticism</th>\n",
       "      <th>openess_to_experience</th>\n",
       "    </tr>\n",
       "  </thead>\n",
       "  <tbody>\n",
       "    <tr>\n",
       "      <th>0</th>\n",
       "      <td>train</td>\n",
       "      <td>203097</td>\n",
       "      <td>420000</td>\n",
       "      <td>2012-06-01</td>\n",
       "      <td>present</td>\n",
       "      <td>senior quality engineer</td>\n",
       "      <td>Bangalore</td>\n",
       "      <td>f</td>\n",
       "      <td>1990-02-19</td>\n",
       "      <td>84.3</td>\n",
       "      <td>board ofsecondary education,ap</td>\n",
       "      <td>2007</td>\n",
       "      <td>95.8</td>\n",
       "      <td>board of intermediate education,ap</td>\n",
       "      <td>1141</td>\n",
       "      <td>2</td>\n",
       "      <td>B.Tech/B.E.</td>\n",
       "      <td>computer engineering</td>\n",
       "      <td>78.00</td>\n",
       "      <td>1141</td>\n",
       "      <td>0</td>\n",
       "      <td>Andhra Pradesh</td>\n",
       "      <td>2011</td>\n",
       "      <td>515</td>\n",
       "      <td>585</td>\n",
       "      <td>525</td>\n",
       "      <td>0.635979</td>\n",
       "      <td>445</td>\n",
       "      <td>-1</td>\n",
       "      <td>-1</td>\n",
       "      <td>-1</td>\n",
       "      <td>-1</td>\n",
       "      <td>-1</td>\n",
       "      <td>-1</td>\n",
       "      <td>0.9737</td>\n",
       "      <td>0.8128</td>\n",
       "      <td>0.5269</td>\n",
       "      <td>1.35490</td>\n",
       "      <td>-0.4455</td>\n",
       "    </tr>\n",
       "    <tr>\n",
       "      <th>1</th>\n",
       "      <td>train</td>\n",
       "      <td>579905</td>\n",
       "      <td>500000</td>\n",
       "      <td>2013-09-01</td>\n",
       "      <td>present</td>\n",
       "      <td>assistant manager</td>\n",
       "      <td>Indore</td>\n",
       "      <td>m</td>\n",
       "      <td>1989-10-04</td>\n",
       "      <td>85.4</td>\n",
       "      <td>cbse</td>\n",
       "      <td>2007</td>\n",
       "      <td>85.0</td>\n",
       "      <td>cbse</td>\n",
       "      <td>5807</td>\n",
       "      <td>2</td>\n",
       "      <td>B.Tech/B.E.</td>\n",
       "      <td>electronics and communication engineering</td>\n",
       "      <td>70.06</td>\n",
       "      <td>5807</td>\n",
       "      <td>0</td>\n",
       "      <td>Madhya Pradesh</td>\n",
       "      <td>2012</td>\n",
       "      <td>695</td>\n",
       "      <td>610</td>\n",
       "      <td>780</td>\n",
       "      <td>0.960603</td>\n",
       "      <td>-1</td>\n",
       "      <td>466</td>\n",
       "      <td>-1</td>\n",
       "      <td>-1</td>\n",
       "      <td>-1</td>\n",
       "      <td>-1</td>\n",
       "      <td>-1</td>\n",
       "      <td>-0.7335</td>\n",
       "      <td>0.3789</td>\n",
       "      <td>1.2396</td>\n",
       "      <td>-0.10760</td>\n",
       "      <td>0.8637</td>\n",
       "    </tr>\n",
       "    <tr>\n",
       "      <th>2</th>\n",
       "      <td>train</td>\n",
       "      <td>810601</td>\n",
       "      <td>325000</td>\n",
       "      <td>2014-06-01</td>\n",
       "      <td>present</td>\n",
       "      <td>systems engineer</td>\n",
       "      <td>Chennai</td>\n",
       "      <td>f</td>\n",
       "      <td>1992-08-03</td>\n",
       "      <td>85.0</td>\n",
       "      <td>cbse</td>\n",
       "      <td>2010</td>\n",
       "      <td>68.2</td>\n",
       "      <td>cbse</td>\n",
       "      <td>64</td>\n",
       "      <td>2</td>\n",
       "      <td>B.Tech/B.E.</td>\n",
       "      <td>information technology</td>\n",
       "      <td>70.00</td>\n",
       "      <td>64</td>\n",
       "      <td>0</td>\n",
       "      <td>Uttar Pradesh</td>\n",
       "      <td>2014</td>\n",
       "      <td>615</td>\n",
       "      <td>545</td>\n",
       "      <td>370</td>\n",
       "      <td>0.450877</td>\n",
       "      <td>395</td>\n",
       "      <td>-1</td>\n",
       "      <td>-1</td>\n",
       "      <td>-1</td>\n",
       "      <td>-1</td>\n",
       "      <td>-1</td>\n",
       "      <td>-1</td>\n",
       "      <td>0.2718</td>\n",
       "      <td>1.7109</td>\n",
       "      <td>0.1637</td>\n",
       "      <td>-0.86820</td>\n",
       "      <td>0.6721</td>\n",
       "    </tr>\n",
       "    <tr>\n",
       "      <th>3</th>\n",
       "      <td>train</td>\n",
       "      <td>267447</td>\n",
       "      <td>1100000</td>\n",
       "      <td>2011-07-01</td>\n",
       "      <td>present</td>\n",
       "      <td>senior software engineer</td>\n",
       "      <td>Gurgaon</td>\n",
       "      <td>m</td>\n",
       "      <td>1989-12-05</td>\n",
       "      <td>85.6</td>\n",
       "      <td>cbse</td>\n",
       "      <td>2007</td>\n",
       "      <td>83.6</td>\n",
       "      <td>cbse</td>\n",
       "      <td>6920</td>\n",
       "      <td>1</td>\n",
       "      <td>B.Tech/B.E.</td>\n",
       "      <td>computer engineering</td>\n",
       "      <td>74.64</td>\n",
       "      <td>6920</td>\n",
       "      <td>1</td>\n",
       "      <td>Delhi</td>\n",
       "      <td>2011</td>\n",
       "      <td>635</td>\n",
       "      <td>585</td>\n",
       "      <td>625</td>\n",
       "      <td>0.974396</td>\n",
       "      <td>615</td>\n",
       "      <td>-1</td>\n",
       "      <td>-1</td>\n",
       "      <td>-1</td>\n",
       "      <td>-1</td>\n",
       "      <td>-1</td>\n",
       "      <td>-1</td>\n",
       "      <td>0.0464</td>\n",
       "      <td>0.3448</td>\n",
       "      <td>-0.3440</td>\n",
       "      <td>-0.40780</td>\n",
       "      <td>-0.9194</td>\n",
       "    </tr>\n",
       "    <tr>\n",
       "      <th>4</th>\n",
       "      <td>train</td>\n",
       "      <td>343523</td>\n",
       "      <td>200000</td>\n",
       "      <td>2014-03-01</td>\n",
       "      <td>2015-03-01 00:00:00</td>\n",
       "      <td>get</td>\n",
       "      <td>Manesar</td>\n",
       "      <td>m</td>\n",
       "      <td>1991-02-27</td>\n",
       "      <td>78.0</td>\n",
       "      <td>cbse</td>\n",
       "      <td>2008</td>\n",
       "      <td>76.8</td>\n",
       "      <td>cbse</td>\n",
       "      <td>11368</td>\n",
       "      <td>2</td>\n",
       "      <td>B.Tech/B.E.</td>\n",
       "      <td>electronics and communication engineering</td>\n",
       "      <td>73.90</td>\n",
       "      <td>11368</td>\n",
       "      <td>0</td>\n",
       "      <td>Uttar Pradesh</td>\n",
       "      <td>2012</td>\n",
       "      <td>545</td>\n",
       "      <td>625</td>\n",
       "      <td>465</td>\n",
       "      <td>0.124502</td>\n",
       "      <td>-1</td>\n",
       "      <td>233</td>\n",
       "      <td>-1</td>\n",
       "      <td>-1</td>\n",
       "      <td>-1</td>\n",
       "      <td>-1</td>\n",
       "      <td>-1</td>\n",
       "      <td>-0.8810</td>\n",
       "      <td>-0.2793</td>\n",
       "      <td>-1.0697</td>\n",
       "      <td>0.09163</td>\n",
       "      <td>-0.1295</td>\n",
       "    </tr>\n",
       "  </tbody>\n",
       "</table>\n",
       "</div>"
      ],
      "text/plain": [
       "  Unnamed: 0      ID   Salary        DOJ                  DOL  \\\n",
       "0      train  203097   420000 2012-06-01              present   \n",
       "1      train  579905   500000 2013-09-01              present   \n",
       "2      train  810601   325000 2014-06-01              present   \n",
       "3      train  267447  1100000 2011-07-01              present   \n",
       "4      train  343523   200000 2014-03-01  2015-03-01 00:00:00   \n",
       "\n",
       "                Designation    JobCity Gender        DOB  10percentage  \\\n",
       "0   senior quality engineer  Bangalore      f 1990-02-19          84.3   \n",
       "1         assistant manager     Indore      m 1989-10-04          85.4   \n",
       "2          systems engineer    Chennai      f 1992-08-03          85.0   \n",
       "3  senior software engineer    Gurgaon      m 1989-12-05          85.6   \n",
       "4                       get    Manesar      m 1991-02-27          78.0   \n",
       "\n",
       "                          10board  12graduation  12percentage  \\\n",
       "0  board ofsecondary education,ap          2007          95.8   \n",
       "1                            cbse          2007          85.0   \n",
       "2                            cbse          2010          68.2   \n",
       "3                            cbse          2007          83.6   \n",
       "4                            cbse          2008          76.8   \n",
       "\n",
       "                              12board  CollegeID  CollegeTier       Degree  \\\n",
       "0  board of intermediate education,ap       1141            2  B.Tech/B.E.   \n",
       "1                                cbse       5807            2  B.Tech/B.E.   \n",
       "2                                cbse         64            2  B.Tech/B.E.   \n",
       "3                                cbse       6920            1  B.Tech/B.E.   \n",
       "4                                cbse      11368            2  B.Tech/B.E.   \n",
       "\n",
       "                              Specialization  collegeGPA  CollegeCityID  \\\n",
       "0                       computer engineering       78.00           1141   \n",
       "1  electronics and communication engineering       70.06           5807   \n",
       "2                     information technology       70.00             64   \n",
       "3                       computer engineering       74.64           6920   \n",
       "4  electronics and communication engineering       73.90          11368   \n",
       "\n",
       "   CollegeCityTier    CollegeState  GraduationYear  English  Logical  Quant  \\\n",
       "0                0  Andhra Pradesh            2011      515      585    525   \n",
       "1                0  Madhya Pradesh            2012      695      610    780   \n",
       "2                0   Uttar Pradesh            2014      615      545    370   \n",
       "3                1           Delhi            2011      635      585    625   \n",
       "4                0   Uttar Pradesh            2012      545      625    465   \n",
       "\n",
       "     Domain  ComputerProgramming  ElectronicsAndSemicon  ComputerScience  \\\n",
       "0  0.635979                  445                     -1               -1   \n",
       "1  0.960603                   -1                    466               -1   \n",
       "2  0.450877                  395                     -1               -1   \n",
       "3  0.974396                  615                     -1               -1   \n",
       "4  0.124502                   -1                    233               -1   \n",
       "\n",
       "   MechanicalEngg  ElectricalEngg  TelecomEngg  CivilEngg  conscientiousness  \\\n",
       "0              -1              -1           -1         -1             0.9737   \n",
       "1              -1              -1           -1         -1            -0.7335   \n",
       "2              -1              -1           -1         -1             0.2718   \n",
       "3              -1              -1           -1         -1             0.0464   \n",
       "4              -1              -1           -1         -1            -0.8810   \n",
       "\n",
       "   agreeableness  extraversion  nueroticism  openess_to_experience  \n",
       "0         0.8128        0.5269      1.35490                -0.4455  \n",
       "1         0.3789        1.2396     -0.10760                 0.8637  \n",
       "2         1.7109        0.1637     -0.86820                 0.6721  \n",
       "3         0.3448       -0.3440     -0.40780                -0.9194  \n",
       "4        -0.2793       -1.0697      0.09163                -0.1295  "
      ]
     },
     "execution_count": 46,
     "metadata": {},
     "output_type": "execute_result"
    }
   ],
   "source": [
    "df=pd.read_excel('D:\\DATA SCIENCE Internship with Innomatics\\Data Analysis\\\\aspiring_minds_employability_outcomes_2015.xlsx')\n",
    "df.head()"
   ]
  },
  {
   "cell_type": "code",
   "execution_count": 6,
   "id": "35dbd773",
   "metadata": {},
   "outputs": [],
   "source": [
    "pd.options.display.max_columns=50"
   ]
  },
  {
   "cell_type": "code",
   "execution_count": 7,
   "id": "873b9601",
   "metadata": {},
   "outputs": [
    {
     "data": {
      "text/html": [
       "<div>\n",
       "<style scoped>\n",
       "    .dataframe tbody tr th:only-of-type {\n",
       "        vertical-align: middle;\n",
       "    }\n",
       "\n",
       "    .dataframe tbody tr th {\n",
       "        vertical-align: top;\n",
       "    }\n",
       "\n",
       "    .dataframe thead th {\n",
       "        text-align: right;\n",
       "    }\n",
       "</style>\n",
       "<table border=\"1\" class=\"dataframe\">\n",
       "  <thead>\n",
       "    <tr style=\"text-align: right;\">\n",
       "      <th></th>\n",
       "      <th>Unnamed: 0</th>\n",
       "      <th>ID</th>\n",
       "      <th>Salary</th>\n",
       "      <th>DOJ</th>\n",
       "      <th>DOL</th>\n",
       "      <th>Designation</th>\n",
       "      <th>JobCity</th>\n",
       "      <th>Gender</th>\n",
       "      <th>DOB</th>\n",
       "      <th>10percentage</th>\n",
       "      <th>10board</th>\n",
       "      <th>12graduation</th>\n",
       "      <th>12percentage</th>\n",
       "      <th>12board</th>\n",
       "      <th>CollegeID</th>\n",
       "      <th>CollegeTier</th>\n",
       "      <th>Degree</th>\n",
       "      <th>Specialization</th>\n",
       "      <th>collegeGPA</th>\n",
       "      <th>CollegeCityID</th>\n",
       "      <th>CollegeCityTier</th>\n",
       "      <th>CollegeState</th>\n",
       "      <th>GraduationYear</th>\n",
       "      <th>English</th>\n",
       "      <th>Logical</th>\n",
       "      <th>Quant</th>\n",
       "      <th>Domain</th>\n",
       "      <th>ComputerProgramming</th>\n",
       "      <th>ElectronicsAndSemicon</th>\n",
       "      <th>ComputerScience</th>\n",
       "      <th>MechanicalEngg</th>\n",
       "      <th>ElectricalEngg</th>\n",
       "      <th>TelecomEngg</th>\n",
       "      <th>CivilEngg</th>\n",
       "      <th>conscientiousness</th>\n",
       "      <th>agreeableness</th>\n",
       "      <th>extraversion</th>\n",
       "      <th>nueroticism</th>\n",
       "      <th>openess_to_experience</th>\n",
       "    </tr>\n",
       "  </thead>\n",
       "  <tbody>\n",
       "    <tr>\n",
       "      <th>0</th>\n",
       "      <td>train</td>\n",
       "      <td>203097</td>\n",
       "      <td>420000</td>\n",
       "      <td>2012-06-01</td>\n",
       "      <td>present</td>\n",
       "      <td>senior quality engineer</td>\n",
       "      <td>Bangalore</td>\n",
       "      <td>f</td>\n",
       "      <td>1990-02-19</td>\n",
       "      <td>84.3</td>\n",
       "      <td>board ofsecondary education,ap</td>\n",
       "      <td>2007</td>\n",
       "      <td>95.8</td>\n",
       "      <td>board of intermediate education,ap</td>\n",
       "      <td>1141</td>\n",
       "      <td>2</td>\n",
       "      <td>B.Tech/B.E.</td>\n",
       "      <td>computer engineering</td>\n",
       "      <td>78.00</td>\n",
       "      <td>1141</td>\n",
       "      <td>0</td>\n",
       "      <td>Andhra Pradesh</td>\n",
       "      <td>2011</td>\n",
       "      <td>515</td>\n",
       "      <td>585</td>\n",
       "      <td>525</td>\n",
       "      <td>0.635979</td>\n",
       "      <td>445</td>\n",
       "      <td>-1</td>\n",
       "      <td>-1</td>\n",
       "      <td>-1</td>\n",
       "      <td>-1</td>\n",
       "      <td>-1</td>\n",
       "      <td>-1</td>\n",
       "      <td>0.9737</td>\n",
       "      <td>0.8128</td>\n",
       "      <td>0.5269</td>\n",
       "      <td>1.35490</td>\n",
       "      <td>-0.4455</td>\n",
       "    </tr>\n",
       "    <tr>\n",
       "      <th>1</th>\n",
       "      <td>train</td>\n",
       "      <td>579905</td>\n",
       "      <td>500000</td>\n",
       "      <td>2013-09-01</td>\n",
       "      <td>present</td>\n",
       "      <td>assistant manager</td>\n",
       "      <td>Indore</td>\n",
       "      <td>m</td>\n",
       "      <td>1989-10-04</td>\n",
       "      <td>85.4</td>\n",
       "      <td>cbse</td>\n",
       "      <td>2007</td>\n",
       "      <td>85.0</td>\n",
       "      <td>cbse</td>\n",
       "      <td>5807</td>\n",
       "      <td>2</td>\n",
       "      <td>B.Tech/B.E.</td>\n",
       "      <td>electronics and communication engineering</td>\n",
       "      <td>70.06</td>\n",
       "      <td>5807</td>\n",
       "      <td>0</td>\n",
       "      <td>Madhya Pradesh</td>\n",
       "      <td>2012</td>\n",
       "      <td>695</td>\n",
       "      <td>610</td>\n",
       "      <td>780</td>\n",
       "      <td>0.960603</td>\n",
       "      <td>-1</td>\n",
       "      <td>466</td>\n",
       "      <td>-1</td>\n",
       "      <td>-1</td>\n",
       "      <td>-1</td>\n",
       "      <td>-1</td>\n",
       "      <td>-1</td>\n",
       "      <td>-0.7335</td>\n",
       "      <td>0.3789</td>\n",
       "      <td>1.2396</td>\n",
       "      <td>-0.10760</td>\n",
       "      <td>0.8637</td>\n",
       "    </tr>\n",
       "    <tr>\n",
       "      <th>2</th>\n",
       "      <td>train</td>\n",
       "      <td>810601</td>\n",
       "      <td>325000</td>\n",
       "      <td>2014-06-01</td>\n",
       "      <td>present</td>\n",
       "      <td>systems engineer</td>\n",
       "      <td>Chennai</td>\n",
       "      <td>f</td>\n",
       "      <td>1992-08-03</td>\n",
       "      <td>85.0</td>\n",
       "      <td>cbse</td>\n",
       "      <td>2010</td>\n",
       "      <td>68.2</td>\n",
       "      <td>cbse</td>\n",
       "      <td>64</td>\n",
       "      <td>2</td>\n",
       "      <td>B.Tech/B.E.</td>\n",
       "      <td>information technology</td>\n",
       "      <td>70.00</td>\n",
       "      <td>64</td>\n",
       "      <td>0</td>\n",
       "      <td>Uttar Pradesh</td>\n",
       "      <td>2014</td>\n",
       "      <td>615</td>\n",
       "      <td>545</td>\n",
       "      <td>370</td>\n",
       "      <td>0.450877</td>\n",
       "      <td>395</td>\n",
       "      <td>-1</td>\n",
       "      <td>-1</td>\n",
       "      <td>-1</td>\n",
       "      <td>-1</td>\n",
       "      <td>-1</td>\n",
       "      <td>-1</td>\n",
       "      <td>0.2718</td>\n",
       "      <td>1.7109</td>\n",
       "      <td>0.1637</td>\n",
       "      <td>-0.86820</td>\n",
       "      <td>0.6721</td>\n",
       "    </tr>\n",
       "    <tr>\n",
       "      <th>3</th>\n",
       "      <td>train</td>\n",
       "      <td>267447</td>\n",
       "      <td>1100000</td>\n",
       "      <td>2011-07-01</td>\n",
       "      <td>present</td>\n",
       "      <td>senior software engineer</td>\n",
       "      <td>Gurgaon</td>\n",
       "      <td>m</td>\n",
       "      <td>1989-12-05</td>\n",
       "      <td>85.6</td>\n",
       "      <td>cbse</td>\n",
       "      <td>2007</td>\n",
       "      <td>83.6</td>\n",
       "      <td>cbse</td>\n",
       "      <td>6920</td>\n",
       "      <td>1</td>\n",
       "      <td>B.Tech/B.E.</td>\n",
       "      <td>computer engineering</td>\n",
       "      <td>74.64</td>\n",
       "      <td>6920</td>\n",
       "      <td>1</td>\n",
       "      <td>Delhi</td>\n",
       "      <td>2011</td>\n",
       "      <td>635</td>\n",
       "      <td>585</td>\n",
       "      <td>625</td>\n",
       "      <td>0.974396</td>\n",
       "      <td>615</td>\n",
       "      <td>-1</td>\n",
       "      <td>-1</td>\n",
       "      <td>-1</td>\n",
       "      <td>-1</td>\n",
       "      <td>-1</td>\n",
       "      <td>-1</td>\n",
       "      <td>0.0464</td>\n",
       "      <td>0.3448</td>\n",
       "      <td>-0.3440</td>\n",
       "      <td>-0.40780</td>\n",
       "      <td>-0.9194</td>\n",
       "    </tr>\n",
       "    <tr>\n",
       "      <th>4</th>\n",
       "      <td>train</td>\n",
       "      <td>343523</td>\n",
       "      <td>200000</td>\n",
       "      <td>2014-03-01</td>\n",
       "      <td>2015-03-01 00:00:00</td>\n",
       "      <td>get</td>\n",
       "      <td>Manesar</td>\n",
       "      <td>m</td>\n",
       "      <td>1991-02-27</td>\n",
       "      <td>78.0</td>\n",
       "      <td>cbse</td>\n",
       "      <td>2008</td>\n",
       "      <td>76.8</td>\n",
       "      <td>cbse</td>\n",
       "      <td>11368</td>\n",
       "      <td>2</td>\n",
       "      <td>B.Tech/B.E.</td>\n",
       "      <td>electronics and communication engineering</td>\n",
       "      <td>73.90</td>\n",
       "      <td>11368</td>\n",
       "      <td>0</td>\n",
       "      <td>Uttar Pradesh</td>\n",
       "      <td>2012</td>\n",
       "      <td>545</td>\n",
       "      <td>625</td>\n",
       "      <td>465</td>\n",
       "      <td>0.124502</td>\n",
       "      <td>-1</td>\n",
       "      <td>233</td>\n",
       "      <td>-1</td>\n",
       "      <td>-1</td>\n",
       "      <td>-1</td>\n",
       "      <td>-1</td>\n",
       "      <td>-1</td>\n",
       "      <td>-0.8810</td>\n",
       "      <td>-0.2793</td>\n",
       "      <td>-1.0697</td>\n",
       "      <td>0.09163</td>\n",
       "      <td>-0.1295</td>\n",
       "    </tr>\n",
       "  </tbody>\n",
       "</table>\n",
       "</div>"
      ],
      "text/plain": [
       "  Unnamed: 0      ID   Salary        DOJ                  DOL  \\\n",
       "0      train  203097   420000 2012-06-01              present   \n",
       "1      train  579905   500000 2013-09-01              present   \n",
       "2      train  810601   325000 2014-06-01              present   \n",
       "3      train  267447  1100000 2011-07-01              present   \n",
       "4      train  343523   200000 2014-03-01  2015-03-01 00:00:00   \n",
       "\n",
       "                Designation    JobCity Gender        DOB  10percentage  \\\n",
       "0   senior quality engineer  Bangalore      f 1990-02-19          84.3   \n",
       "1         assistant manager     Indore      m 1989-10-04          85.4   \n",
       "2          systems engineer    Chennai      f 1992-08-03          85.0   \n",
       "3  senior software engineer    Gurgaon      m 1989-12-05          85.6   \n",
       "4                       get    Manesar      m 1991-02-27          78.0   \n",
       "\n",
       "                          10board  12graduation  12percentage  \\\n",
       "0  board ofsecondary education,ap          2007          95.8   \n",
       "1                            cbse          2007          85.0   \n",
       "2                            cbse          2010          68.2   \n",
       "3                            cbse          2007          83.6   \n",
       "4                            cbse          2008          76.8   \n",
       "\n",
       "                              12board  CollegeID  CollegeTier       Degree  \\\n",
       "0  board of intermediate education,ap       1141            2  B.Tech/B.E.   \n",
       "1                                cbse       5807            2  B.Tech/B.E.   \n",
       "2                                cbse         64            2  B.Tech/B.E.   \n",
       "3                                cbse       6920            1  B.Tech/B.E.   \n",
       "4                                cbse      11368            2  B.Tech/B.E.   \n",
       "\n",
       "                              Specialization  collegeGPA  CollegeCityID  \\\n",
       "0                       computer engineering       78.00           1141   \n",
       "1  electronics and communication engineering       70.06           5807   \n",
       "2                     information technology       70.00             64   \n",
       "3                       computer engineering       74.64           6920   \n",
       "4  electronics and communication engineering       73.90          11368   \n",
       "\n",
       "   CollegeCityTier    CollegeState  GraduationYear  English  Logical  Quant  \\\n",
       "0                0  Andhra Pradesh            2011      515      585    525   \n",
       "1                0  Madhya Pradesh            2012      695      610    780   \n",
       "2                0   Uttar Pradesh            2014      615      545    370   \n",
       "3                1           Delhi            2011      635      585    625   \n",
       "4                0   Uttar Pradesh            2012      545      625    465   \n",
       "\n",
       "     Domain  ComputerProgramming  ElectronicsAndSemicon  ComputerScience  \\\n",
       "0  0.635979                  445                     -1               -1   \n",
       "1  0.960603                   -1                    466               -1   \n",
       "2  0.450877                  395                     -1               -1   \n",
       "3  0.974396                  615                     -1               -1   \n",
       "4  0.124502                   -1                    233               -1   \n",
       "\n",
       "   MechanicalEngg  ElectricalEngg  TelecomEngg  CivilEngg  conscientiousness  \\\n",
       "0              -1              -1           -1         -1             0.9737   \n",
       "1              -1              -1           -1         -1            -0.7335   \n",
       "2              -1              -1           -1         -1             0.2718   \n",
       "3              -1              -1           -1         -1             0.0464   \n",
       "4              -1              -1           -1         -1            -0.8810   \n",
       "\n",
       "   agreeableness  extraversion  nueroticism  openess_to_experience  \n",
       "0         0.8128        0.5269      1.35490                -0.4455  \n",
       "1         0.3789        1.2396     -0.10760                 0.8637  \n",
       "2         1.7109        0.1637     -0.86820                 0.6721  \n",
       "3         0.3448       -0.3440     -0.40780                -0.9194  \n",
       "4        -0.2793       -1.0697      0.09163                -0.1295  "
      ]
     },
     "execution_count": 7,
     "metadata": {},
     "output_type": "execute_result"
    }
   ],
   "source": [
    "df.head()"
   ]
  },
  {
   "cell_type": "markdown",
   "id": "a06326e8",
   "metadata": {},
   "source": [
    "### Data Understanding"
   ]
  },
  {
   "cell_type": "code",
   "execution_count": 47,
   "id": "41fcdda2",
   "metadata": {},
   "outputs": [
    {
     "data": {
      "text/plain": [
       "array(['train'], dtype=object)"
      ]
     },
     "execution_count": 47,
     "metadata": {},
     "output_type": "execute_result"
    }
   ],
   "source": [
    "df['Unnamed: 0'].unique()"
   ]
  },
  {
   "cell_type": "code",
   "execution_count": 48,
   "id": "1ae7ac9f",
   "metadata": {},
   "outputs": [],
   "source": [
    "df.drop('Unnamed: 0', axis=1, inplace=True)"
   ]
  },
  {
   "cell_type": "code",
   "execution_count": 10,
   "id": "56a4c954",
   "metadata": {},
   "outputs": [
    {
     "data": {
      "text/plain": [
       "(3998, 38)"
      ]
     },
     "execution_count": 10,
     "metadata": {},
     "output_type": "execute_result"
    }
   ],
   "source": [
    "df.shape"
   ]
  },
  {
   "cell_type": "code",
   "execution_count": 11,
   "id": "95259587",
   "metadata": {},
   "outputs": [
    {
     "data": {
      "text/plain": [
       "Index(['ID', 'Salary', 'DOJ', 'DOL', 'Designation', 'JobCity', 'Gender', 'DOB',\n",
       "       '10percentage', '10board', '12graduation', '12percentage', '12board',\n",
       "       'CollegeID', 'CollegeTier', 'Degree', 'Specialization', 'collegeGPA',\n",
       "       'CollegeCityID', 'CollegeCityTier', 'CollegeState', 'GraduationYear',\n",
       "       'English', 'Logical', 'Quant', 'Domain', 'ComputerProgramming',\n",
       "       'ElectronicsAndSemicon', 'ComputerScience', 'MechanicalEngg',\n",
       "       'ElectricalEngg', 'TelecomEngg', 'CivilEngg', 'conscientiousness',\n",
       "       'agreeableness', 'extraversion', 'nueroticism',\n",
       "       'openess_to_experience'],\n",
       "      dtype='object')"
      ]
     },
     "execution_count": 11,
     "metadata": {},
     "output_type": "execute_result"
    }
   ],
   "source": [
    "df.columns"
   ]
  },
  {
   "cell_type": "code",
   "execution_count": 12,
   "id": "046f8713",
   "metadata": {
    "scrolled": false
   },
   "outputs": [
    {
     "data": {
      "text/plain": [
       "ID                                int64\n",
       "Salary                            int64\n",
       "DOJ                      datetime64[ns]\n",
       "DOL                              object\n",
       "Designation                      object\n",
       "JobCity                          object\n",
       "Gender                           object\n",
       "DOB                      datetime64[ns]\n",
       "10percentage                    float64\n",
       "10board                          object\n",
       "12graduation                      int64\n",
       "12percentage                    float64\n",
       "12board                          object\n",
       "CollegeID                         int64\n",
       "CollegeTier                       int64\n",
       "Degree                           object\n",
       "Specialization                   object\n",
       "collegeGPA                      float64\n",
       "CollegeCityID                     int64\n",
       "CollegeCityTier                   int64\n",
       "CollegeState                     object\n",
       "GraduationYear                    int64\n",
       "English                           int64\n",
       "Logical                           int64\n",
       "Quant                             int64\n",
       "Domain                          float64\n",
       "ComputerProgramming               int64\n",
       "ElectronicsAndSemicon             int64\n",
       "ComputerScience                   int64\n",
       "MechanicalEngg                    int64\n",
       "ElectricalEngg                    int64\n",
       "TelecomEngg                       int64\n",
       "CivilEngg                         int64\n",
       "conscientiousness               float64\n",
       "agreeableness                   float64\n",
       "extraversion                    float64\n",
       "nueroticism                     float64\n",
       "openess_to_experience           float64\n",
       "dtype: object"
      ]
     },
     "execution_count": 12,
     "metadata": {},
     "output_type": "execute_result"
    }
   ],
   "source": [
    "df.dtypes"
   ]
  },
  {
   "cell_type": "code",
   "execution_count": 13,
   "id": "aef381de",
   "metadata": {},
   "outputs": [
    {
     "name": "stdout",
     "output_type": "stream",
     "text": [
      "<class 'pandas.core.frame.DataFrame'>\n",
      "RangeIndex: 3998 entries, 0 to 3997\n",
      "Data columns (total 38 columns):\n",
      " #   Column                 Non-Null Count  Dtype         \n",
      "---  ------                 --------------  -----         \n",
      " 0   ID                     3998 non-null   int64         \n",
      " 1   Salary                 3998 non-null   int64         \n",
      " 2   DOJ                    3998 non-null   datetime64[ns]\n",
      " 3   DOL                    3998 non-null   object        \n",
      " 4   Designation            3998 non-null   object        \n",
      " 5   JobCity                3998 non-null   object        \n",
      " 6   Gender                 3998 non-null   object        \n",
      " 7   DOB                    3998 non-null   datetime64[ns]\n",
      " 8   10percentage           3998 non-null   float64       \n",
      " 9   10board                3998 non-null   object        \n",
      " 10  12graduation           3998 non-null   int64         \n",
      " 11  12percentage           3998 non-null   float64       \n",
      " 12  12board                3998 non-null   object        \n",
      " 13  CollegeID              3998 non-null   int64         \n",
      " 14  CollegeTier            3998 non-null   int64         \n",
      " 15  Degree                 3998 non-null   object        \n",
      " 16  Specialization         3998 non-null   object        \n",
      " 17  collegeGPA             3998 non-null   float64       \n",
      " 18  CollegeCityID          3998 non-null   int64         \n",
      " 19  CollegeCityTier        3998 non-null   int64         \n",
      " 20  CollegeState           3998 non-null   object        \n",
      " 21  GraduationYear         3998 non-null   int64         \n",
      " 22  English                3998 non-null   int64         \n",
      " 23  Logical                3998 non-null   int64         \n",
      " 24  Quant                  3998 non-null   int64         \n",
      " 25  Domain                 3998 non-null   float64       \n",
      " 26  ComputerProgramming    3998 non-null   int64         \n",
      " 27  ElectronicsAndSemicon  3998 non-null   int64         \n",
      " 28  ComputerScience        3998 non-null   int64         \n",
      " 29  MechanicalEngg         3998 non-null   int64         \n",
      " 30  ElectricalEngg         3998 non-null   int64         \n",
      " 31  TelecomEngg            3998 non-null   int64         \n",
      " 32  CivilEngg              3998 non-null   int64         \n",
      " 33  conscientiousness      3998 non-null   float64       \n",
      " 34  agreeableness          3998 non-null   float64       \n",
      " 35  extraversion           3998 non-null   float64       \n",
      " 36  nueroticism            3998 non-null   float64       \n",
      " 37  openess_to_experience  3998 non-null   float64       \n",
      "dtypes: datetime64[ns](2), float64(9), int64(18), object(9)\n",
      "memory usage: 1.2+ MB\n"
     ]
    }
   ],
   "source": [
    "df.info()"
   ]
  },
  {
   "cell_type": "code",
   "execution_count": 14,
   "id": "5a9c1593",
   "metadata": {},
   "outputs": [
    {
     "data": {
      "text/plain": [
       "ID                       0\n",
       "Salary                   0\n",
       "DOJ                      0\n",
       "DOL                      0\n",
       "Designation              0\n",
       "JobCity                  0\n",
       "Gender                   0\n",
       "DOB                      0\n",
       "10percentage             0\n",
       "10board                  0\n",
       "12graduation             0\n",
       "12percentage             0\n",
       "12board                  0\n",
       "CollegeID                0\n",
       "CollegeTier              0\n",
       "Degree                   0\n",
       "Specialization           0\n",
       "collegeGPA               0\n",
       "CollegeCityID            0\n",
       "CollegeCityTier          0\n",
       "CollegeState             0\n",
       "GraduationYear           0\n",
       "English                  0\n",
       "Logical                  0\n",
       "Quant                    0\n",
       "Domain                   0\n",
       "ComputerProgramming      0\n",
       "ElectronicsAndSemicon    0\n",
       "ComputerScience          0\n",
       "MechanicalEngg           0\n",
       "ElectricalEngg           0\n",
       "TelecomEngg              0\n",
       "CivilEngg                0\n",
       "conscientiousness        0\n",
       "agreeableness            0\n",
       "extraversion             0\n",
       "nueroticism              0\n",
       "openess_to_experience    0\n",
       "dtype: int64"
      ]
     },
     "execution_count": 14,
     "metadata": {},
     "output_type": "execute_result"
    }
   ],
   "source": [
    "df.isna().sum()"
   ]
  },
  {
   "cell_type": "code",
   "execution_count": null,
   "id": "8585d2b2",
   "metadata": {},
   "outputs": [],
   "source": []
  },
  {
   "cell_type": "markdown",
   "id": "67d6419c",
   "metadata": {},
   "source": [
    "### Data Cleaning"
   ]
  },
  {
   "cell_type": "code",
   "execution_count": 15,
   "id": "a2986b55",
   "metadata": {},
   "outputs": [
    {
     "data": {
      "text/plain": [
       "dtype('int64')"
      ]
     },
     "execution_count": 15,
     "metadata": {},
     "output_type": "execute_result"
    }
   ],
   "source": [
    "df['Salary'].dtype"
   ]
  },
  {
   "cell_type": "code",
   "execution_count": 16,
   "id": "1e5a9a51",
   "metadata": {},
   "outputs": [
    {
     "name": "stdout",
     "output_type": "stream",
     "text": [
      "Minimum Salary 35000\n",
      "Maximum Salary 4000000\n",
      "Average Salary 307699.8499249625\n",
      "Median Salary 300000.0\n"
     ]
    }
   ],
   "source": [
    "print(\"Minimum Salary\", df['Salary'].min())\n",
    "print(\"Maximum Salary\", df['Salary'].max())\n",
    "print(\"Average Salary\", df['Salary'].mean())\n",
    "print(\"Median Salary\", df['Salary'].median())"
   ]
  },
  {
   "cell_type": "code",
   "execution_count": 18,
   "id": "66601f0b",
   "metadata": {},
   "outputs": [
    {
     "name": "stderr",
     "output_type": "stream",
     "text": [
      "C:\\Users\\User\\anaconda3\\lib\\site-packages\\seaborn\\_decorators.py:36: FutureWarning: Pass the following variable as a keyword arg: x. From version 0.12, the only valid positional argument will be `data`, and passing other arguments without an explicit keyword will result in an error or misinterpretation.\n",
      "  warnings.warn(\n"
     ]
    },
    {
     "data": {
      "text/plain": [
       "<AxesSubplot:xlabel='Salary'>"
      ]
     },
     "execution_count": 18,
     "metadata": {},
     "output_type": "execute_result"
    },
    {
     "data": {
      "image/png": "[encoded data removed]",
      "text/plain": [
       "<Figure size 432x288 with 1 Axes>"
      ]
     },
     "metadata": {
      "needs_background": "light"
     },
     "output_type": "display_data"
    }
   ],
   "source": [
    "sns.boxplot(df['Salary'])"
   ]
  },
  {
   "cell_type": "code",
   "execution_count": 19,
   "id": "94279593",
   "metadata": {},
   "outputs": [
    {
     "name": "stderr",
     "output_type": "stream",
     "text": [
      "C:\\Users\\User\\anaconda3\\lib\\site-packages\\seaborn\\distributions.py:2619: FutureWarning: `distplot` is a deprecated function and will be removed in a future version. Please adapt your code to use either `displot` (a figure-level function with similar flexibility) or `histplot` (an axes-level function for histograms).\n",
      "  warnings.warn(msg, FutureWarning)\n"
     ]
    },
    {
     "data": {
      "text/plain": [
       "<AxesSubplot:xlabel='Salary', ylabel='Density'>"
      ]
     },
     "execution_count": 19,
     "metadata": {},
     "output_type": "execute_result"
    },
    {
     "data": {
      "image/png": "[encoded data removed]",
      "text/plain": [
       "<Figure size 432x288 with 1 Axes>"
      ]
     },
     "metadata": {
      "needs_background": "light"
     },
     "output_type": "display_data"
    }
   ],
   "source": [
    "sns.distplot(df['Salary'])"
   ]
  },
  {
   "cell_type": "code",
   "execution_count": 20,
   "id": "621a7b55",
   "metadata": {},
   "outputs": [
    {
     "data": {
      "text/plain": [
       "<AxesSubplot:xlabel='Salary', ylabel='Density'>"
      ]
     },
     "execution_count": 20,
     "metadata": {},
     "output_type": "execute_result"
    },
    {
     "data": {
      "image/png": "[encoded data removed]",
      "text/plain": [
       "<Figure size 432x288 with 1 Axes>"
      ]
     },
     "metadata": {
      "needs_background": "light"
     },
     "output_type": "display_data"
    }
   ],
   "source": [
    "sns.kdeplot(df['Salary'])"
   ]
  },
  {
   "cell_type": "code",
   "execution_count": 21,
   "id": "4b80e596",
   "metadata": {},
   "outputs": [
    {
     "data": {
      "text/plain": [
       "<AxesSubplot:xlabel='Salary', ylabel='Count'>"
      ]
     },
     "execution_count": 21,
     "metadata": {},
     "output_type": "execute_result"
    },
    {
     "data": {
      "image/png": "[encoded data removed]",
      "text/plain": [
       "<Figure size 432x288 with 1 Axes>"
      ]
     },
     "metadata": {
      "needs_background": "light"
     },
     "output_type": "display_data"
    }
   ],
   "source": [
    "sns.histplot(df['Salary'])"
   ]
  },
  {
   "cell_type": "code",
   "execution_count": 23,
   "id": "363e5b6c",
   "metadata": {},
   "outputs": [
    {
     "name": "stderr",
     "output_type": "stream",
     "text": [
      "C:\\Users\\User\\anaconda3\\lib\\site-packages\\seaborn\\distributions.py:2619: FutureWarning: `distplot` is a deprecated function and will be removed in a future version. Please adapt your code to use either `displot` (a figure-level function with similar flexibility) or `histplot` (an axes-level function for histograms).\n",
      "  warnings.warn(msg, FutureWarning)\n"
     ]
    },
    {
     "data": {
      "text/plain": [
       "<AxesSubplot:xlabel='Salary', ylabel='Density'>"
      ]
     },
     "execution_count": 23,
     "metadata": {},
     "output_type": "execute_result"
    },
    {
     "data": {
      "image/png": "[encoded data removed]",
      "text/plain": [
       "<Figure size 432x288 with 1 Axes>"
      ]
     },
     "metadata": {
      "needs_background": "light"
     },
     "output_type": "display_data"
    }
   ],
   "source": [
    "sns.distplot(np.log(df['Salary']))"
   ]
  },
  {
   "cell_type": "code",
   "execution_count": 24,
   "id": "146c153f",
   "metadata": {},
   "outputs": [
    {
     "name": "stderr",
     "output_type": "stream",
     "text": [
      "C:\\Users\\User\\anaconda3\\lib\\site-packages\\seaborn\\_decorators.py:36: FutureWarning: Pass the following variable as a keyword arg: x. From version 0.12, the only valid positional argument will be `data`, and passing other arguments without an explicit keyword will result in an error or misinterpretation.\n",
      "  warnings.warn(\n"
     ]
    },
    {
     "data": {
      "text/plain": [
       "<AxesSubplot:xlabel='Salary'>"
      ]
     },
     "execution_count": 24,
     "metadata": {},
     "output_type": "execute_result"
    },
    {
     "data": {
      "image/png": "[encoded data removed]",
      "text/plain": [
       "<Figure size 432x288 with 1 Axes>"
      ]
     },
     "metadata": {
      "needs_background": "light"
     },
     "output_type": "display_data"
    }
   ],
   "source": [
    "sns.boxplot(np.log(df['Salary']))"
   ]
  },
  {
   "cell_type": "code",
   "execution_count": null,
   "id": "a00953a7",
   "metadata": {},
   "outputs": [],
   "source": []
  },
  {
   "cell_type": "code",
   "execution_count": 25,
   "id": "f4f58b39",
   "metadata": {},
   "outputs": [
    {
     "name": "stdout",
     "output_type": "stream",
     "text": [
      "datetime64[ns]\n"
     ]
    }
   ],
   "source": [
    "print(df['DOJ'].dtype)"
   ]
  },
  {
   "cell_type": "markdown",
   "id": "3d43585f",
   "metadata": {},
   "source": [
    "### Who is your oldest employee?"
   ]
  },
  {
   "cell_type": "code",
   "execution_count": 26,
   "id": "9cdbcfb6",
   "metadata": {},
   "outputs": [
    {
     "data": {
      "text/plain": [
       "Timestamp('1991-06-01 00:00:00')"
      ]
     },
     "execution_count": 26,
     "metadata": {},
     "output_type": "execute_result"
    }
   ],
   "source": [
    "df['DOJ'].min()"
   ]
  },
  {
   "cell_type": "markdown",
   "id": "bc109357",
   "metadata": {},
   "source": [
    "### Who is newest employee?"
   ]
  },
  {
   "cell_type": "code",
   "execution_count": 27,
   "id": "5111cc18",
   "metadata": {},
   "outputs": [
    {
     "data": {
      "text/plain": [
       "Timestamp('2015-12-01 00:00:00')"
      ]
     },
     "execution_count": 27,
     "metadata": {},
     "output_type": "execute_result"
    }
   ],
   "source": [
    "df['DOJ'].max()"
   ]
  },
  {
   "cell_type": "code",
   "execution_count": null,
   "id": "90644d6b",
   "metadata": {},
   "outputs": [],
   "source": []
  },
  {
   "cell_type": "code",
   "execution_count": 49,
   "id": "408e912e",
   "metadata": {},
   "outputs": [],
   "source": [
    "df['Year']=df['DOJ'].dt.year"
   ]
  },
  {
   "cell_type": "code",
   "execution_count": 29,
   "id": "e5066d58",
   "metadata": {},
   "outputs": [
    {
     "data": {
      "text/plain": [
       "0       2012\n",
       "1       2013\n",
       "2       2014\n",
       "3       2011\n",
       "4       2014\n",
       "        ... \n",
       "3993    2011\n",
       "3994    2013\n",
       "3995    2013\n",
       "3996    2014\n",
       "3997    2013\n",
       "Name: Year, Length: 3998, dtype: int64"
      ]
     },
     "execution_count": 29,
     "metadata": {},
     "output_type": "execute_result"
    }
   ],
   "source": [
    "df['Year']"
   ]
  },
  {
   "cell_type": "code",
   "execution_count": 30,
   "id": "948ee60d",
   "metadata": {},
   "outputs": [
    {
     "data": {
      "text/plain": [
       "array([2012, 2013, 2014, 2011, 2010, 2015, 2009, 2004, 2008, 2006, 2007,\n",
       "       1991], dtype=int64)"
      ]
     },
     "execution_count": 30,
     "metadata": {},
     "output_type": "execute_result"
    }
   ],
   "source": [
    "df['Year'].unique()"
   ]
  },
  {
   "cell_type": "code",
   "execution_count": 31,
   "id": "3628fe48",
   "metadata": {},
   "outputs": [
    {
     "data": {
      "text/plain": [
       "<AxesSubplot:>"
      ]
     },
     "execution_count": 31,
     "metadata": {},
     "output_type": "execute_result"
    },
    {
     "data": {
      "image/png": "[encoded data removed]",
      "text/plain": [
       "<Figure size 432x288 with 1 Axes>"
      ]
     },
     "metadata": {
      "needs_background": "light"
     },
     "output_type": "display_data"
    }
   ],
   "source": [
    "df['Year'].value_counts().plot(kind='bar')"
   ]
  },
  {
   "cell_type": "code",
   "execution_count": null,
   "id": "94d373ec",
   "metadata": {},
   "outputs": [],
   "source": []
  },
  {
   "cell_type": "markdown",
   "id": "8b4c961f",
   "metadata": {},
   "source": [
    "### Analyze Date of Leaving"
   ]
  },
  {
   "cell_type": "code",
   "execution_count": 32,
   "id": "a372e138",
   "metadata": {},
   "outputs": [],
   "source": [
    "import datetime"
   ]
  },
  {
   "cell_type": "code",
   "execution_count": 50,
   "id": "4291371b",
   "metadata": {},
   "outputs": [
    {
     "data": {
      "text/plain": [
       "0                   present\n",
       "1                   present\n",
       "2                   present\n",
       "3                   present\n",
       "4       2015-03-01 00:00:00\n",
       "               ...         \n",
       "3993    2012-10-01 00:00:00\n",
       "3994    2013-07-01 00:00:00\n",
       "3995                present\n",
       "3996    2015-01-01 00:00:00\n",
       "3997                present\n",
       "Name: DOL, Length: 3998, dtype: object"
      ]
     },
     "execution_count": 50,
     "metadata": {},
     "output_type": "execute_result"
    }
   ],
   "source": [
    "df['DOL']"
   ]
  },
  {
   "cell_type": "markdown",
   "id": "933cf569",
   "metadata": {},
   "source": [
    "today=datetime.datetime.today()\n",
    "today"
   ]
  },
  {
   "cell_type": "code",
   "execution_count": 51,
   "id": "82b9290d",
   "metadata": {},
   "outputs": [],
   "source": [
    "last_date='2023-01-01'"
   ]
  },
  {
   "cell_type": "code",
   "execution_count": 52,
   "id": "025e09f1",
   "metadata": {},
   "outputs": [],
   "source": [
    "df['DOL'].replace({\"present\": last_date}, inplace=True)"
   ]
  },
  {
   "cell_type": "markdown",
   "id": "64c52a1f",
   "metadata": {},
   "source": [
    "### How many employees still working in this company?"
   ]
  },
  {
   "cell_type": "code",
   "execution_count": 53,
   "id": "7274102e",
   "metadata": {},
   "outputs": [
    {
     "data": {
      "text/plain": [
       "1875"
      ]
     },
     "execution_count": 53,
     "metadata": {},
     "output_type": "execute_result"
    }
   ],
   "source": [
    "df[df['DOL']=='2023-01-01'].shape[0]"
   ]
  },
  {
   "cell_type": "code",
   "execution_count": null,
   "id": "5d001a2e",
   "metadata": {},
   "outputs": [],
   "source": []
  },
  {
   "cell_type": "markdown",
   "id": "b08fd277",
   "metadata": {},
   "source": [
    "### Analyze Designation column"
   ]
  },
  {
   "cell_type": "code",
   "execution_count": 54,
   "id": "27f0524b",
   "metadata": {
    "scrolled": false
   },
   "outputs": [
    {
     "data": {
      "text/plain": [
       "array(['senior quality engineer', 'assistant manager', 'systems engineer',\n",
       "       'senior software engineer', 'get', 'system engineer',\n",
       "       'java software engineer', 'mechanical engineer',\n",
       "       'electrical engineer', 'project engineer', 'senior php developer',\n",
       "       'senior systems engineer', 'quality assurance engineer',\n",
       "       'qa analyst', 'network engineer', 'product development engineer',\n",
       "       'associate software developer', 'data entry operator',\n",
       "       'software engineer', 'developer', 'electrical project engineer',\n",
       "       'programmer analyst', 'systems analyst', 'ase',\n",
       "       'telecommunication engineer', 'application developer',\n",
       "       'ios developer', 'executive assistant', 'online marketing manager',\n",
       "       'documentation specialist', 'associate software engineer',\n",
       "       'management trainee', 'site manager', 'software developer',\n",
       "       '.net developer', 'production engineer', 'jr. software engineer',\n",
       "       'trainee software developer', 'ui developer',\n",
       "       'assistant system engineer', 'android developer',\n",
       "       'customer service', 'test engineer', 'java developer', 'engineer',\n",
       "       'recruitment coordinator', 'technical support engineer',\n",
       "       'data analyst', 'assistant software engineer', 'faculty',\n",
       "       'entry level management trainee',\n",
       "       'customer service representative', 'software test engineer',\n",
       "       'firmware engineer', 'php developer', 'research associate',\n",
       "       'research analyst', 'quality engineer', 'programmer',\n",
       "       'technical support executive', 'business analyst', 'web developer',\n",
       "       'application engineer', 'project coordinator', 'engineer trainee',\n",
       "       'sap consultant', 'quality analyst', 'marketing coordinator',\n",
       "       'system administrator', 'senior engineer',\n",
       "       'business development managerde', 'network administrator',\n",
       "       'technical support specialist', 'business development executive',\n",
       "       'junior software engineer', 'asp.net developer',\n",
       "       'graduate engineer trainee', 'field engineer',\n",
       "       'assistant professor', 'trainee software engineer',\n",
       "       'senior software developer',\n",
       "       'quality assurance automation engineer', 'design engineer',\n",
       "       'telecom engineer', 'quality control engineer',\n",
       "       'hardware engineer', 'hr recruiter', 'sales associate',\n",
       "       'junior engineer', 'associate engineer', 'maintenance engineer',\n",
       "       'sales engineer', 'human resources associate',\n",
       "       'mobile application developer',\n",
       "       'electronic field service engineer', 'process associate',\n",
       "       'field service engineer', 'it support specialist',\n",
       "       'software development engineer', 'business process analyst',\n",
       "       'operation engineer', 'electrical designer', 'marketing assistant',\n",
       "       'sales executive', 'admin assistant', 'senior java developer',\n",
       "       'account executive', 'oracle dba', 'rf engineer',\n",
       "       'embedded software engineer', 'programmer analyst trainee',\n",
       "       'technical engineer', 'operations executive', 'trainee engineer',\n",
       "       'recruiter', 'lecturer', '.net web developer',\n",
       "       'marketing executive', 'operations assistant', 'associate manager',\n",
       "       'electrical design engineer', 'systems administrator',\n",
       "       'client services associate', 'it analyst', 'senior developer',\n",
       "       'cad designer', 'business technology analyst', 'asst. manager',\n",
       "       'service engineer', 'executive recruiter', 'planning engineer',\n",
       "       'associate technical operations', 'web designer',\n",
       "       'software architect', 'software quality assurance tester',\n",
       "       'seo trainee', 'process engineer',\n",
       "       'software quality assurance analyst', 'designer',\n",
       "       'business systems consultant', 'business development manager',\n",
       "       'junior research fellow', 'technical recruiter',\n",
       "       'operations analyst', 'quality assurance test engineer',\n",
       "       'linux systems administrator', 'software trainee',\n",
       "       'entry level sales and marketing', 'electrical field engineer',\n",
       "       'windows systems administrator', 'junior software developer',\n",
       "       'python developer', 'web application developer',\n",
       "       'assistant systems engineer', 'javascript developer',\n",
       "       'operation executive', 'performance engineer', 'technical writer',\n",
       "       'operations engineer and jetty handling', 'lead engineer',\n",
       "       'portfolio analyst', 'associate system engineer',\n",
       "       'mechanical design engineer', 'product engineer',\n",
       "       'network security engineer', 'operations manager',\n",
       "       'technical lead', 'operations', 'quality assurance tester',\n",
       "       'automation engineer', 'data scientist', 'quality associate',\n",
       "       'manual tester', 'sr. engineer', 'embedded engineer',\n",
       "       'service and sales engineer', 'telecom support engineer',\n",
       "       'engineer- customer support', 'cloud engineer', 'branch manager',\n",
       "       'business analyst consultant', 'technology lead',\n",
       "       'software trainee engineer', 'dcs engineer', 'junior manager',\n",
       "       'ux designer', 'clerical', 'hr generalist',\n",
       "       'database administrator', 'senior design engineer', 'seo',\n",
       "       'assistant engineer', 'marketing analyst', 'it executive',\n",
       "       'salesforce developer', 'software tester', 'sql dba',\n",
       "       'junior engineer product support', 'manager',\n",
       "       'senior business analyst', 'c# developer',\n",
       "       'implementation engineer', 'executive hr', 'executive engineer',\n",
       "       'sharepoint developer', 'system analyst',\n",
       "       'sales management trainee', 'senior project engineer',\n",
       "       'it recruiter', 'software engineer analyst',\n",
       "       'desktop support technician', 'continuous improvement engineer',\n",
       "       'process advisor', 'etl developer', 'sales and service engineer',\n",
       "       'project manager', 'training specialist', 'product manager',\n",
       "       'staffing recruiter', 'assistant programmer', 'quality controller',\n",
       "       'mis executive', 'game developer', 'digital marketing specialist',\n",
       "       'principal software engineer', 'software devloper',\n",
       "       'senior mechanical engineer', 'technical operations analyst',\n",
       "       'service coordinator', 'testing engineer', 'technical assistant',\n",
       "       'sap abap consultant', 'seo engineer', 'project assistant',\n",
       "       'talent acquisition specialist', 'sales account manager',\n",
       "       'software engineer trainee', 'customer service manager',\n",
       "       'help desk analyst', 'general manager', 'engineering manager',\n",
       "       'senior network engineer',\n",
       "       'field based employee relations manager', 'phone banking officer',\n",
       "       'support engineer', 'associate test engineer',\n",
       "       'technology analyst', 'network support engineer',\n",
       "       'it business analyst', 'junior system analyst',\n",
       "       'senior .net developer', 'secretary', 'research engineer',\n",
       "       'quality assurance auditor', 'process executive',\n",
       "       'lecturer & electrical maintenance', 'office coordinator',\n",
       "       'hr manager', 'html developer', 'sales support',\n",
       "       'front end web developer', 'administrative support',\n",
       "       'territory sales manager', 'project administrator',\n",
       "       'environmental engineer', 'web designer and seo',\n",
       "       'information security analyst',\n",
       "       'field business development associate', 'operational executive',\n",
       "       'administrative coordinator', 'senior risk consultant',\n",
       "       'desktop support engineer', 'cad drafter', 'noc engineer',\n",
       "       'industrial engineer', 'it engineer', 'human resources intern',\n",
       "       'senior quality assurance engineer', 'clerical assistant',\n",
       "       'software enginner', 'quality assurance',\n",
       "       'delivery software engineer', 'graphic designer',\n",
       "       'sales development manager', 'visiting faculty',\n",
       "       'business intelligence analyst', 'team lead',\n",
       "       'operational excellence manager', 'sales & service engineer',\n",
       "       'web intern', 'full stack developer', 'database developer',\n",
       "       'sr. database engineer', 'graduate apprentice trainee',\n",
       "       'software engineer associate', 'technical analyst',\n",
       "       'executive engg', 'it technician', 'business system analyst',\n",
       "       'process control engineer', 'technical consultant',\n",
       "       'business office manager', 'quality control inspector',\n",
       "       'product design engineer', 'manufacturing engineer',\n",
       "       'seo executive', 'sap analyst', 'software engineere',\n",
       "       'financial service consultant', 'co faculty', 'software analyst',\n",
       "       'desktop support analyst', 'graduate engineer',\n",
       "       'engineering technician', 'it assistant', 'marketing manager',\n",
       "       'human resource assistant', 'hr assistant', 'product developer',\n",
       "       'customer support engineer',\n",
       "       'quality control inspection technician', 'gis/cad engineer',\n",
       "       'senior web developer', 'sql developer', 'research staff member',\n",
       "       'sap abap associate consultant', 'associate qa',\n",
       "       'corporate recruiter', 'project management officer',\n",
       "       'business systems analyst', 'software programmer',\n",
       "       'help desk technician', 'sales manager', 'catalog associate',\n",
       "       'assistant store manager', 'software engg', 'it developer',\n",
       "       'apprentice', 'business consultant', 'controls engineer',\n",
       "       'ruby on rails developer', 'risk consultant', 'account manager',\n",
       "       'professor', 'assistant administrator', 'civil engineer',\n",
       "       'educator', 'service manager', 'teradata dba',\n",
       "       'full-time loss prevention associate', 'junior recruiter',\n",
       "       'associate developer', 'assistant electrical engineer',\n",
       "       'shift engineer', 'dotnet developer', 'rf/dt engineer',\n",
       "       'human resources analyst', 'software test engineerte',\n",
       "       'junior .net developer', 'java trainee', 'maintenance supervisor',\n",
       "       'r&d engineer', 'front end developer', 'engineer-hws',\n",
       "       'operations engineer', 'senior research fellow',\n",
       "       'web designer and joomla administrator',\n",
       "       'enterprise solutions developer',\n",
       "       'information technology specialist', 'site engineer',\n",
       "       'graduate trainee engineer', 'quality assurance analyst',\n",
       "       'cnc programmer', 'financial analyst', 'system engineer trainee',\n",
       "       'sap mm consultant', 'assistant system engineer trainee',\n",
       "       'qa trainee', 'teradata developer', 'hr executive',\n",
       "       'senior programmer', 'software test engineer (etl)',\n",
       "       'associate software engg', 'supply chain analyst', 'sales trainer',\n",
       "       'software executive', 'team leader',\n",
       "       'assistant system engineer - trainee', 'seo analyst',\n",
       "       'risk investigator', 'executive administrative assistant',\n",
       "       'program manager', 'r & d', 'sap functional consultant',\n",
       "       'website developer/tester', 'software designer',\n",
       "       'sales coordinator', 'qa engineer', 'aircraft technician',\n",
       "       'customer care executive', 'senior test engineer',\n",
       "       'program analyst trainee', 'electrical controls engineer',\n",
       "       'trainee decision scientist', 'editor', 'bss engineer', 'dba',\n",
       "       'software eng', 'computer faculty', 'recruitment associate',\n",
       "       'logistics executive', 'quality consultant',\n",
       "       'senior sales executive', 'db2 dba', 'test technician',\n",
       "       'it operations associate', 'software engineering associate',\n",
       "       'research scientist', 'jr. software developer'], dtype=object)"
      ]
     },
     "execution_count": 54,
     "metadata": {},
     "output_type": "execute_result"
    }
   ],
   "source": [
    "df['Designation'].unique()"
   ]
  },
  {
   "cell_type": "code",
   "execution_count": null,
   "id": "327d1769",
   "metadata": {},
   "outputs": [],
   "source": []
  },
  {
   "cell_type": "code",
   "execution_count": 56,
   "id": "23e8578b",
   "metadata": {},
   "outputs": [],
   "source": [
    "pd.options.display.max_rows=100"
   ]
  },
  {
   "cell_type": "code",
   "execution_count": 57,
   "id": "03402885",
   "metadata": {},
   "outputs": [
    {
     "data": {
      "text/plain": [
       "software engineer                    539\n",
       "software developer                   265\n",
       "system engineer                      205\n",
       "programmer analyst                   139\n",
       "systems engineer                     118\n",
       "                                    ... \n",
       "cad drafter                            1\n",
       "noc engineer                           1\n",
       "human resources intern                 1\n",
       "senior quality assurance engineer      1\n",
       "jr. software developer                 1\n",
       "Name: Designation, Length: 419, dtype: int64"
      ]
     },
     "execution_count": 57,
     "metadata": {},
     "output_type": "execute_result"
    }
   ],
   "source": [
    "df['Designation'].value_counts()"
   ]
  },
  {
   "cell_type": "code",
   "execution_count": null,
   "id": "7a1afb8a",
   "metadata": {},
   "outputs": [],
   "source": []
  },
  {
   "cell_type": "code",
   "execution_count": null,
   "id": "5a23571f",
   "metadata": {},
   "outputs": [],
   "source": [
    "df['Designation'].replace({'get':'graduate engineer trainee'}, inplace=True)"
   ]
  },
  {
   "cell_type": "code",
   "execution_count": null,
   "id": "5bcc7172",
   "metadata": {},
   "outputs": [],
   "source": []
  },
  {
   "cell_type": "markdown",
   "id": "cd48b8d2",
   "metadata": {},
   "source": [
    "### Analyze Job cities"
   ]
  },
  {
   "cell_type": "code",
   "execution_count": 59,
   "id": "88142270",
   "metadata": {},
   "outputs": [
    {
     "data": {
      "text/plain": [
       "339"
      ]
     },
     "execution_count": 59,
     "metadata": {},
     "output_type": "execute_result"
    }
   ],
   "source": [
    "df['JobCity'].nunique()"
   ]
  },
  {
   "cell_type": "code",
   "execution_count": 60,
   "id": "2b83bc14",
   "metadata": {},
   "outputs": [],
   "source": [
    "df['JobCity']=df['JobCity'].str.replace(\" \",\"\")"
   ]
  },
  {
   "cell_type": "code",
   "execution_count": 61,
   "id": "0bc64479",
   "metadata": {},
   "outputs": [
    {
     "data": {
      "text/plain": [
       "300"
      ]
     },
     "execution_count": 61,
     "metadata": {},
     "output_type": "execute_result"
    }
   ],
   "source": [
    "df['JobCity'].nunique()"
   ]
  },
  {
   "cell_type": "code",
   "execution_count": 62,
   "id": "2b08f7a7",
   "metadata": {},
   "outputs": [],
   "source": [
    "df['JobCity']=df['JobCity'].str.lower()"
   ]
  },
  {
   "cell_type": "code",
   "execution_count": 63,
   "id": "9627014b",
   "metadata": {},
   "outputs": [
    {
     "data": {
      "text/plain": [
       "230"
      ]
     },
     "execution_count": 63,
     "metadata": {},
     "output_type": "execute_result"
    }
   ],
   "source": [
    "df['JobCity'].nunique()"
   ]
  },
  {
   "cell_type": "code",
   "execution_count": 64,
   "id": "cdfaf746",
   "metadata": {},
   "outputs": [
    {
     "data": {
      "text/plain": [
       "array(['bangalore', 'indore', 'chennai', 'gurgaon', 'manesar',\n",
       "       'hyderabad', 'banglore', 'noida', 'kolkata', 'pune', nan, 'mohali',\n",
       "       'jhansi', 'delhi', 'bhubaneswar', 'navimumbai', 'mumbai',\n",
       "       'newdelhi', 'mangalore', 'rewari', 'gaziabaad', 'bhiwadi',\n",
       "       'mysore', 'rajkot', 'greaternoida', 'jaipur', 'thane',\n",
       "       'maharajganj', 'thiruvananthapuram', 'punchkula', 'bhubaneshwar',\n",
       "       'coimbatore', 'dhanbad', 'lucknow', 'trivandrum', 'gandhinagar',\n",
       "       'una', 'damananddiu', 'gurgoan', 'vsakhapttnam', 'nagpur',\n",
       "       'bhagalpur', 'newdelhi-jaisalmer', 'ahmedabad', 'kochi/cochin',\n",
       "       'bankura', 'bengaluru', 'kanpur', 'vijayawada', 'kochi', 'beawar',\n",
       "       'alwar', 'siliguri', 'raipur', 'bhopal', 'faridabad', 'jodhpur',\n",
       "       'udaipur', 'muzaffarpur', 'kolkata`', 'bulandshahar', 'haridwar',\n",
       "       'raigarh', 'visakhapatnam', 'jabalpur', 'unnao', 'aurangabad',\n",
       "       'belgaum', 'dehradun', 'rudrapur', 'jamshedpur', 'vizag', 'nouda',\n",
       "       'dharamshala', 'banagalore', 'hissar', 'ranchi', 'madurai',\n",
       "       'gurga', 'chandigarh', 'australia', 'cheyyar', 'sonepat',\n",
       "       'ghaziabad', 'pantnagar', 'jagdalpur', 'angul', 'baroda',\n",
       "       'ariyalur', 'jowai', 'kochi/cochin,chennaiandcoimbatore',\n",
       "       'neemrana', 'tirupathi', 'bhubneshwar', 'calicut', 'dubai',\n",
       "       'ahmednagar', 'nashik', 'bellary', 'ludhiana', 'muzaffarnagar',\n",
       "       'gagret', 'indirapuram,ghaziabad', 'gwalior', 'chennai&mumbai',\n",
       "       'rajasthan', 'sonipat', 'bareli', 'hospete', 'miryalaguda',\n",
       "       'dharuhera', 'meerut', 'ganjam', 'hubli', 'ncr', 'agra', 'trichy',\n",
       "       'kudankulam,tarapur', 'ongole', 'sambalpur', 'pondicherry',\n",
       "       'bundi', 'sadulpur,rajgarh,distt-churu,rajasthan', 'am', 'bikaner',\n",
       "       'vadodara', 'india', 'asansol', 'tirunelvelli', 'ernakulam',\n",
       "       'bilaspur', 'chandrapur', 'nanded', 'dharmapuri', 'vandavasi',\n",
       "       'rohtak', 'patna', 'salem', 'nasikcity', 'technopark,trivandrum',\n",
       "       'bharuch', 'tornagallu', 'jaspur', 'burdwan', 'shimla',\n",
       "       'gajiabaad', 'jammu', 'shahdol', 'muvattupuzha',\n",
       "       'aljubail,saudiarabia', 'kalmar,sweden', 'secunderabad',\n",
       "       'a-64,sec-64,noida', 'ratnagiri', 'jhajjar', 'gulbarga',\n",
       "       'hyderabad(bhadurpally)', 'nalagarh', 'jeddahsaudiarabia',\n",
       "       'chennai,bangalore', 'jamnagar', 'tirupati', 'gonda', 'orissa',\n",
       "       'kharagpur', 'navimumbai,hyderabad', 'joshimath', 'bathinda',\n",
       "       'johannesburg', 'kalaamb', 'karnal', 'london', 'kota', 'panchkula',\n",
       "       'baddihp', 'nagari', 'mettur,tamilnadu', 'durgapur', 'pondi',\n",
       "       'surat', 'kurnool', 'kolhapur', 'bhilai', 'hderabad',\n",
       "       'bahadurgarh', 'rayagada,odisha', 'kakinada', 'varanasi', 'punr',\n",
       "       'nellore', 'sahibabad', 'howrah', 'trichur', 'ambala', 'khopoli',\n",
       "       'keral', 'roorkee', 'allahabad', 'delhi/ncr', 'jalandhar', 'vapi',\n",
       "       'pilani', 'muzzafarpur', 'rasalkhaimah', 'bihar', 'singaruli',\n",
       "       'pondy', 'phagwara', 'guragaon', 'baripada', 'yamunanagar',\n",
       "       'shahibabad', 'sampla', 'guwahati', 'rourkela', 'banaglore',\n",
       "       'vellore', 'dausa', 'latur(maharashtra)', 'mainpuri', 'dammam',\n",
       "       'haldia', 'raebareli', 'patiala', 'gorakhpur', 'newdehli',\n",
       "       'ambalacity', 'karad', 'rajpura', 'haryana', 'asifabadbanglore'],\n",
       "      dtype=object)"
      ]
     },
     "execution_count": 64,
     "metadata": {},
     "output_type": "execute_result"
    }
   ],
   "source": [
    "df['JobCity'].unique()"
   ]
  },
  {
   "cell_type": "markdown",
   "id": "18e8d492",
   "metadata": {},
   "source": [
    "### Analyze gender"
   ]
  },
  {
   "cell_type": "code",
   "execution_count": 67,
   "id": "6df4864c",
   "metadata": {},
   "outputs": [
    {
     "data": {
      "text/plain": [
       "array(['f', 'm'], dtype=object)"
      ]
     },
     "execution_count": 67,
     "metadata": {},
     "output_type": "execute_result"
    }
   ],
   "source": [
    "df['Gender'].unique()"
   ]
  },
  {
   "cell_type": "code",
   "execution_count": 71,
   "id": "303a7c8a",
   "metadata": {},
   "outputs": [
    {
     "data": {
      "text/plain": [
       "<AxesSubplot:>"
      ]
     },
     "execution_count": 71,
     "metadata": {},
     "output_type": "execute_result"
    },
    {
     "data": {
      "image/png": "[encoded data removed]",
      "text/plain": [
       "<Figure size 432x288 with 1 Axes>"
      ]
     },
     "metadata": {
      "needs_background": "light"
     },
     "output_type": "display_data"
    }
   ],
   "source": [
    "df['Gender'].value_counts().plot(kind='barh')"
   ]
  },
  {
   "cell_type": "markdown",
   "id": "47b60c68",
   "metadata": {},
   "source": [
    "### Analyze Date Of Birth "
   ]
  },
  {
   "cell_type": "code",
   "execution_count": 72,
   "id": "19ad0ad6",
   "metadata": {},
   "outputs": [
    {
     "data": {
      "text/plain": [
       "0      1990-02-19\n",
       "1      1989-10-04\n",
       "2      1992-08-03\n",
       "3      1989-12-05\n",
       "4      1991-02-27\n",
       "          ...    \n",
       "3993   1987-04-15\n",
       "3994   1992-08-27\n",
       "3995   1991-07-03\n",
       "3996   1992-03-20\n",
       "3997   1991-02-26\n",
       "Name: DOB, Length: 3998, dtype: datetime64[ns]"
      ]
     },
     "execution_count": 72,
     "metadata": {},
     "output_type": "execute_result"
    }
   ],
   "source": [
    "df['DOB']"
   ]
  },
  {
   "cell_type": "code",
   "execution_count": 73,
   "id": "f68c1357",
   "metadata": {},
   "outputs": [
    {
     "data": {
      "text/plain": [
       "dtype('<M8[ns]')"
      ]
     },
     "execution_count": 73,
     "metadata": {},
     "output_type": "execute_result"
    }
   ],
   "source": [
    "df['DOB'].dtype"
   ]
  },
  {
   "cell_type": "code",
   "execution_count": 74,
   "id": "bdde8235",
   "metadata": {},
   "outputs": [
    {
     "data": {
      "text/plain": [
       "0"
      ]
     },
     "execution_count": 74,
     "metadata": {},
     "output_type": "execute_result"
    }
   ],
   "source": [
    "df['DOB'].isna().sum()"
   ]
  },
  {
   "cell_type": "markdown",
   "id": "d26025fe",
   "metadata": {},
   "source": [
    "### Who is oldest emplyee by age"
   ]
  },
  {
   "cell_type": "code",
   "execution_count": 90,
   "id": "cc95b2da",
   "metadata": {},
   "outputs": [
    {
     "data": {
      "text/plain": [
       "0      12107 days 14:20:08.854543\n",
       "1      12245 days 14:20:08.854543\n",
       "2      11211 days 14:20:08.854543\n",
       "3      12183 days 14:20:08.854543\n",
       "4      11734 days 14:20:08.854543\n",
       "                  ...            \n",
       "3993   13148 days 14:20:08.854543\n",
       "3994   11187 days 14:20:08.854543\n",
       "3995   11608 days 14:20:08.854543\n",
       "3996   11347 days 14:20:08.854543\n",
       "3997   11735 days 14:20:08.854543\n",
       "Name: Age, Length: 3998, dtype: timedelta64[ns]"
      ]
     },
     "execution_count": 90,
     "metadata": {},
     "output_type": "execute_result"
    }
   ],
   "source": [
    "df['Age']=(today - df['DOB'])\n",
    "df['Age']"
   ]
  },
  {
   "cell_type": "code",
   "execution_count": 93,
   "id": "4a411e53",
   "metadata": {},
   "outputs": [
    {
     "data": {
      "text/html": [
       "<div>\n",
       "<style scoped>\n",
       "    .dataframe tbody tr th:only-of-type {\n",
       "        vertical-align: middle;\n",
       "    }\n",
       "\n",
       "    .dataframe tbody tr th {\n",
       "        vertical-align: top;\n",
       "    }\n",
       "\n",
       "    .dataframe thead th {\n",
       "        text-align: right;\n",
       "    }\n",
       "</style>\n",
       "<table border=\"1\" class=\"dataframe\">\n",
       "  <thead>\n",
       "    <tr style=\"text-align: right;\">\n",
       "      <th></th>\n",
       "      <th>ID</th>\n",
       "      <th>Salary</th>\n",
       "      <th>DOJ</th>\n",
       "      <th>DOL</th>\n",
       "      <th>Designation</th>\n",
       "      <th>JobCity</th>\n",
       "      <th>Gender</th>\n",
       "      <th>DOB</th>\n",
       "      <th>10percentage</th>\n",
       "      <th>10board</th>\n",
       "      <th>12graduation</th>\n",
       "      <th>12percentage</th>\n",
       "      <th>12board</th>\n",
       "      <th>CollegeID</th>\n",
       "      <th>CollegeTier</th>\n",
       "      <th>Degree</th>\n",
       "      <th>Specialization</th>\n",
       "      <th>collegeGPA</th>\n",
       "      <th>CollegeCityID</th>\n",
       "      <th>CollegeCityTier</th>\n",
       "      <th>CollegeState</th>\n",
       "      <th>GraduationYear</th>\n",
       "      <th>English</th>\n",
       "      <th>Logical</th>\n",
       "      <th>Quant</th>\n",
       "      <th>Domain</th>\n",
       "      <th>ComputerProgramming</th>\n",
       "      <th>ElectronicsAndSemicon</th>\n",
       "      <th>ComputerScience</th>\n",
       "      <th>MechanicalEngg</th>\n",
       "      <th>ElectricalEngg</th>\n",
       "      <th>TelecomEngg</th>\n",
       "      <th>CivilEngg</th>\n",
       "      <th>conscientiousness</th>\n",
       "      <th>agreeableness</th>\n",
       "      <th>extraversion</th>\n",
       "      <th>nueroticism</th>\n",
       "      <th>openess_to_experience</th>\n",
       "      <th>Year</th>\n",
       "      <th>Age</th>\n",
       "    </tr>\n",
       "  </thead>\n",
       "  <tbody>\n",
       "    <tr>\n",
       "      <th>0</th>\n",
       "      <td>203097</td>\n",
       "      <td>420000</td>\n",
       "      <td>2012-06-01</td>\n",
       "      <td>2023-01-01</td>\n",
       "      <td>senior quality engineer</td>\n",
       "      <td>bangalore</td>\n",
       "      <td>f</td>\n",
       "      <td>1990-02-19</td>\n",
       "      <td>84.3</td>\n",
       "      <td>board ofsecondary education,ap</td>\n",
       "      <td>2007</td>\n",
       "      <td>95.8</td>\n",
       "      <td>board of intermediate education,ap</td>\n",
       "      <td>1141</td>\n",
       "      <td>2</td>\n",
       "      <td>B.Tech/B.E.</td>\n",
       "      <td>computer engineering</td>\n",
       "      <td>78.00</td>\n",
       "      <td>1141</td>\n",
       "      <td>0</td>\n",
       "      <td>Andhra Pradesh</td>\n",
       "      <td>2011</td>\n",
       "      <td>515</td>\n",
       "      <td>585</td>\n",
       "      <td>525</td>\n",
       "      <td>0.635979</td>\n",
       "      <td>445</td>\n",
       "      <td>-1</td>\n",
       "      <td>-1</td>\n",
       "      <td>-1</td>\n",
       "      <td>-1</td>\n",
       "      <td>-1</td>\n",
       "      <td>-1</td>\n",
       "      <td>0.9737</td>\n",
       "      <td>0.8128</td>\n",
       "      <td>0.5269</td>\n",
       "      <td>1.3549</td>\n",
       "      <td>-0.4455</td>\n",
       "      <td>2012</td>\n",
       "      <td>12107 days 14:20:08.854543</td>\n",
       "    </tr>\n",
       "    <tr>\n",
       "      <th>1</th>\n",
       "      <td>579905</td>\n",
       "      <td>500000</td>\n",
       "      <td>2013-09-01</td>\n",
       "      <td>2023-01-01</td>\n",
       "      <td>assistant manager</td>\n",
       "      <td>indore</td>\n",
       "      <td>m</td>\n",
       "      <td>1989-10-04</td>\n",
       "      <td>85.4</td>\n",
       "      <td>cbse</td>\n",
       "      <td>2007</td>\n",
       "      <td>85.0</td>\n",
       "      <td>cbse</td>\n",
       "      <td>5807</td>\n",
       "      <td>2</td>\n",
       "      <td>B.Tech/B.E.</td>\n",
       "      <td>electronics and communication engineering</td>\n",
       "      <td>70.06</td>\n",
       "      <td>5807</td>\n",
       "      <td>0</td>\n",
       "      <td>Madhya Pradesh</td>\n",
       "      <td>2012</td>\n",
       "      <td>695</td>\n",
       "      <td>610</td>\n",
       "      <td>780</td>\n",
       "      <td>0.960603</td>\n",
       "      <td>-1</td>\n",
       "      <td>466</td>\n",
       "      <td>-1</td>\n",
       "      <td>-1</td>\n",
       "      <td>-1</td>\n",
       "      <td>-1</td>\n",
       "      <td>-1</td>\n",
       "      <td>-0.7335</td>\n",
       "      <td>0.3789</td>\n",
       "      <td>1.2396</td>\n",
       "      <td>-0.1076</td>\n",
       "      <td>0.8637</td>\n",
       "      <td>2013</td>\n",
       "      <td>12245 days 14:20:08.854543</td>\n",
       "    </tr>\n",
       "  </tbody>\n",
       "</table>\n",
       "</div>"
      ],
      "text/plain": [
       "       ID  Salary        DOJ         DOL              Designation    JobCity  \\\n",
       "0  203097  420000 2012-06-01  2023-01-01  senior quality engineer  bangalore   \n",
       "1  579905  500000 2013-09-01  2023-01-01        assistant manager     indore   \n",
       "\n",
       "  Gender        DOB  10percentage                         10board  \\\n",
       "0      f 1990-02-19          84.3  board ofsecondary education,ap   \n",
       "1      m 1989-10-04          85.4                            cbse   \n",
       "\n",
       "   12graduation  12percentage                             12board  CollegeID  \\\n",
       "0          2007          95.8  board of intermediate education,ap       1141   \n",
       "1          2007          85.0                                cbse       5807   \n",
       "\n",
       "   CollegeTier       Degree                             Specialization  \\\n",
       "0            2  B.Tech/B.E.                       computer engineering   \n",
       "1            2  B.Tech/B.E.  electronics and communication engineering   \n",
       "\n",
       "   collegeGPA  CollegeCityID  CollegeCityTier    CollegeState  GraduationYear  \\\n",
       "0       78.00           1141                0  Andhra Pradesh            2011   \n",
       "1       70.06           5807                0  Madhya Pradesh            2012   \n",
       "\n",
       "   English  Logical  Quant    Domain  ComputerProgramming  \\\n",
       "0      515      585    525  0.635979                  445   \n",
       "1      695      610    780  0.960603                   -1   \n",
       "\n",
       "   ElectronicsAndSemicon  ComputerScience  MechanicalEngg  ElectricalEngg  \\\n",
       "0                     -1               -1              -1              -1   \n",
       "1                    466               -1              -1              -1   \n",
       "\n",
       "   TelecomEngg  CivilEngg  conscientiousness  agreeableness  extraversion  \\\n",
       "0           -1         -1             0.9737         0.8128        0.5269   \n",
       "1           -1         -1            -0.7335         0.3789        1.2396   \n",
       "\n",
       "   nueroticism  openess_to_experience  Year                        Age  \n",
       "0       1.3549                -0.4455  2012 12107 days 14:20:08.854543  \n",
       "1      -0.1076                 0.8637  2013 12245 days 14:20:08.854543  "
      ]
     },
     "execution_count": 93,
     "metadata": {},
     "output_type": "execute_result"
    }
   ],
   "source": [
    "df.head(2)"
   ]
  },
  {
   "cell_type": "code",
   "execution_count": 94,
   "id": "7bc39874",
   "metadata": {},
   "outputs": [],
   "source": [
    "df['Present Age']=(df['Age'].dt.components.iloc[:, 0])/365"
   ]
  },
  {
   "cell_type": "code",
   "execution_count": 95,
   "id": "265ba60d",
   "metadata": {},
   "outputs": [
    {
     "data": {
      "text/html": [
       "<div>\n",
       "<style scoped>\n",
       "    .dataframe tbody tr th:only-of-type {\n",
       "        vertical-align: middle;\n",
       "    }\n",
       "\n",
       "    .dataframe tbody tr th {\n",
       "        vertical-align: top;\n",
       "    }\n",
       "\n",
       "    .dataframe thead th {\n",
       "        text-align: right;\n",
       "    }\n",
       "</style>\n",
       "<table border=\"1\" class=\"dataframe\">\n",
       "  <thead>\n",
       "    <tr style=\"text-align: right;\">\n",
       "      <th></th>\n",
       "      <th>ID</th>\n",
       "      <th>Salary</th>\n",
       "      <th>DOJ</th>\n",
       "      <th>DOL</th>\n",
       "      <th>Designation</th>\n",
       "      <th>JobCity</th>\n",
       "      <th>Gender</th>\n",
       "      <th>DOB</th>\n",
       "      <th>10percentage</th>\n",
       "      <th>10board</th>\n",
       "      <th>12graduation</th>\n",
       "      <th>12percentage</th>\n",
       "      <th>12board</th>\n",
       "      <th>CollegeID</th>\n",
       "      <th>CollegeTier</th>\n",
       "      <th>Degree</th>\n",
       "      <th>Specialization</th>\n",
       "      <th>collegeGPA</th>\n",
       "      <th>CollegeCityID</th>\n",
       "      <th>CollegeCityTier</th>\n",
       "      <th>CollegeState</th>\n",
       "      <th>GraduationYear</th>\n",
       "      <th>English</th>\n",
       "      <th>Logical</th>\n",
       "      <th>Quant</th>\n",
       "      <th>Domain</th>\n",
       "      <th>ComputerProgramming</th>\n",
       "      <th>ElectronicsAndSemicon</th>\n",
       "      <th>ComputerScience</th>\n",
       "      <th>MechanicalEngg</th>\n",
       "      <th>ElectricalEngg</th>\n",
       "      <th>TelecomEngg</th>\n",
       "      <th>CivilEngg</th>\n",
       "      <th>conscientiousness</th>\n",
       "      <th>agreeableness</th>\n",
       "      <th>extraversion</th>\n",
       "      <th>nueroticism</th>\n",
       "      <th>openess_to_experience</th>\n",
       "      <th>Year</th>\n",
       "      <th>Age</th>\n",
       "      <th>Present Age</th>\n",
       "    </tr>\n",
       "  </thead>\n",
       "  <tbody>\n",
       "    <tr>\n",
       "      <th>0</th>\n",
       "      <td>203097</td>\n",
       "      <td>420000</td>\n",
       "      <td>2012-06-01</td>\n",
       "      <td>2023-01-01</td>\n",
       "      <td>senior quality engineer</td>\n",
       "      <td>bangalore</td>\n",
       "      <td>f</td>\n",
       "      <td>1990-02-19</td>\n",
       "      <td>84.3</td>\n",
       "      <td>board ofsecondary education,ap</td>\n",
       "      <td>2007</td>\n",
       "      <td>95.8</td>\n",
       "      <td>board of intermediate education,ap</td>\n",
       "      <td>1141</td>\n",
       "      <td>2</td>\n",
       "      <td>B.Tech/B.E.</td>\n",
       "      <td>computer engineering</td>\n",
       "      <td>78.00</td>\n",
       "      <td>1141</td>\n",
       "      <td>0</td>\n",
       "      <td>Andhra Pradesh</td>\n",
       "      <td>2011</td>\n",
       "      <td>515</td>\n",
       "      <td>585</td>\n",
       "      <td>525</td>\n",
       "      <td>0.635979</td>\n",
       "      <td>445</td>\n",
       "      <td>-1</td>\n",
       "      <td>-1</td>\n",
       "      <td>-1</td>\n",
       "      <td>-1</td>\n",
       "      <td>-1</td>\n",
       "      <td>-1</td>\n",
       "      <td>0.9737</td>\n",
       "      <td>0.8128</td>\n",
       "      <td>0.5269</td>\n",
       "      <td>1.35490</td>\n",
       "      <td>-0.4455</td>\n",
       "      <td>2012</td>\n",
       "      <td>12107 days 14:20:08.854543</td>\n",
       "      <td>33.169863</td>\n",
       "    </tr>\n",
       "    <tr>\n",
       "      <th>1</th>\n",
       "      <td>579905</td>\n",
       "      <td>500000</td>\n",
       "      <td>2013-09-01</td>\n",
       "      <td>2023-01-01</td>\n",
       "      <td>assistant manager</td>\n",
       "      <td>indore</td>\n",
       "      <td>m</td>\n",
       "      <td>1989-10-04</td>\n",
       "      <td>85.4</td>\n",
       "      <td>cbse</td>\n",
       "      <td>2007</td>\n",
       "      <td>85.0</td>\n",
       "      <td>cbse</td>\n",
       "      <td>5807</td>\n",
       "      <td>2</td>\n",
       "      <td>B.Tech/B.E.</td>\n",
       "      <td>electronics and communication engineering</td>\n",
       "      <td>70.06</td>\n",
       "      <td>5807</td>\n",
       "      <td>0</td>\n",
       "      <td>Madhya Pradesh</td>\n",
       "      <td>2012</td>\n",
       "      <td>695</td>\n",
       "      <td>610</td>\n",
       "      <td>780</td>\n",
       "      <td>0.960603</td>\n",
       "      <td>-1</td>\n",
       "      <td>466</td>\n",
       "      <td>-1</td>\n",
       "      <td>-1</td>\n",
       "      <td>-1</td>\n",
       "      <td>-1</td>\n",
       "      <td>-1</td>\n",
       "      <td>-0.7335</td>\n",
       "      <td>0.3789</td>\n",
       "      <td>1.2396</td>\n",
       "      <td>-0.10760</td>\n",
       "      <td>0.8637</td>\n",
       "      <td>2013</td>\n",
       "      <td>12245 days 14:20:08.854543</td>\n",
       "      <td>33.547945</td>\n",
       "    </tr>\n",
       "    <tr>\n",
       "      <th>2</th>\n",
       "      <td>810601</td>\n",
       "      <td>325000</td>\n",
       "      <td>2014-06-01</td>\n",
       "      <td>2023-01-01</td>\n",
       "      <td>systems engineer</td>\n",
       "      <td>chennai</td>\n",
       "      <td>f</td>\n",
       "      <td>1992-08-03</td>\n",
       "      <td>85.0</td>\n",
       "      <td>cbse</td>\n",
       "      <td>2010</td>\n",
       "      <td>68.2</td>\n",
       "      <td>cbse</td>\n",
       "      <td>64</td>\n",
       "      <td>2</td>\n",
       "      <td>B.Tech/B.E.</td>\n",
       "      <td>information technology</td>\n",
       "      <td>70.00</td>\n",
       "      <td>64</td>\n",
       "      <td>0</td>\n",
       "      <td>Uttar Pradesh</td>\n",
       "      <td>2014</td>\n",
       "      <td>615</td>\n",
       "      <td>545</td>\n",
       "      <td>370</td>\n",
       "      <td>0.450877</td>\n",
       "      <td>395</td>\n",
       "      <td>-1</td>\n",
       "      <td>-1</td>\n",
       "      <td>-1</td>\n",
       "      <td>-1</td>\n",
       "      <td>-1</td>\n",
       "      <td>-1</td>\n",
       "      <td>0.2718</td>\n",
       "      <td>1.7109</td>\n",
       "      <td>0.1637</td>\n",
       "      <td>-0.86820</td>\n",
       "      <td>0.6721</td>\n",
       "      <td>2014</td>\n",
       "      <td>11211 days 14:20:08.854543</td>\n",
       "      <td>30.715068</td>\n",
       "    </tr>\n",
       "    <tr>\n",
       "      <th>3</th>\n",
       "      <td>267447</td>\n",
       "      <td>1100000</td>\n",
       "      <td>2011-07-01</td>\n",
       "      <td>2023-01-01</td>\n",
       "      <td>senior software engineer</td>\n",
       "      <td>gurgaon</td>\n",
       "      <td>m</td>\n",
       "      <td>1989-12-05</td>\n",
       "      <td>85.6</td>\n",
       "      <td>cbse</td>\n",
       "      <td>2007</td>\n",
       "      <td>83.6</td>\n",
       "      <td>cbse</td>\n",
       "      <td>6920</td>\n",
       "      <td>1</td>\n",
       "      <td>B.Tech/B.E.</td>\n",
       "      <td>computer engineering</td>\n",
       "      <td>74.64</td>\n",
       "      <td>6920</td>\n",
       "      <td>1</td>\n",
       "      <td>Delhi</td>\n",
       "      <td>2011</td>\n",
       "      <td>635</td>\n",
       "      <td>585</td>\n",
       "      <td>625</td>\n",
       "      <td>0.974396</td>\n",
       "      <td>615</td>\n",
       "      <td>-1</td>\n",
       "      <td>-1</td>\n",
       "      <td>-1</td>\n",
       "      <td>-1</td>\n",
       "      <td>-1</td>\n",
       "      <td>-1</td>\n",
       "      <td>0.0464</td>\n",
       "      <td>0.3448</td>\n",
       "      <td>-0.3440</td>\n",
       "      <td>-0.40780</td>\n",
       "      <td>-0.9194</td>\n",
       "      <td>2011</td>\n",
       "      <td>12183 days 14:20:08.854543</td>\n",
       "      <td>33.378082</td>\n",
       "    </tr>\n",
       "    <tr>\n",
       "      <th>4</th>\n",
       "      <td>343523</td>\n",
       "      <td>200000</td>\n",
       "      <td>2014-03-01</td>\n",
       "      <td>2015-03-01 00:00:00</td>\n",
       "      <td>get</td>\n",
       "      <td>manesar</td>\n",
       "      <td>m</td>\n",
       "      <td>1991-02-27</td>\n",
       "      <td>78.0</td>\n",
       "      <td>cbse</td>\n",
       "      <td>2008</td>\n",
       "      <td>76.8</td>\n",
       "      <td>cbse</td>\n",
       "      <td>11368</td>\n",
       "      <td>2</td>\n",
       "      <td>B.Tech/B.E.</td>\n",
       "      <td>electronics and communication engineering</td>\n",
       "      <td>73.90</td>\n",
       "      <td>11368</td>\n",
       "      <td>0</td>\n",
       "      <td>Uttar Pradesh</td>\n",
       "      <td>2012</td>\n",
       "      <td>545</td>\n",
       "      <td>625</td>\n",
       "      <td>465</td>\n",
       "      <td>0.124502</td>\n",
       "      <td>-1</td>\n",
       "      <td>233</td>\n",
       "      <td>-1</td>\n",
       "      <td>-1</td>\n",
       "      <td>-1</td>\n",
       "      <td>-1</td>\n",
       "      <td>-1</td>\n",
       "      <td>-0.8810</td>\n",
       "      <td>-0.2793</td>\n",
       "      <td>-1.0697</td>\n",
       "      <td>0.09163</td>\n",
       "      <td>-0.1295</td>\n",
       "      <td>2014</td>\n",
       "      <td>11734 days 14:20:08.854543</td>\n",
       "      <td>32.147945</td>\n",
       "    </tr>\n",
       "  </tbody>\n",
       "</table>\n",
       "</div>"
      ],
      "text/plain": [
       "       ID   Salary        DOJ                  DOL               Designation  \\\n",
       "0  203097   420000 2012-06-01           2023-01-01   senior quality engineer   \n",
       "1  579905   500000 2013-09-01           2023-01-01         assistant manager   \n",
       "2  810601   325000 2014-06-01           2023-01-01          systems engineer   \n",
       "3  267447  1100000 2011-07-01           2023-01-01  senior software engineer   \n",
       "4  343523   200000 2014-03-01  2015-03-01 00:00:00                       get   \n",
       "\n",
       "     JobCity Gender        DOB  10percentage                         10board  \\\n",
       "0  bangalore      f 1990-02-19          84.3  board ofsecondary education,ap   \n",
       "1     indore      m 1989-10-04          85.4                            cbse   \n",
       "2    chennai      f 1992-08-03          85.0                            cbse   \n",
       "3    gurgaon      m 1989-12-05          85.6                            cbse   \n",
       "4    manesar      m 1991-02-27          78.0                            cbse   \n",
       "\n",
       "   12graduation  12percentage                             12board  CollegeID  \\\n",
       "0          2007          95.8  board of intermediate education,ap       1141   \n",
       "1          2007          85.0                                cbse       5807   \n",
       "2          2010          68.2                                cbse         64   \n",
       "3          2007          83.6                                cbse       6920   \n",
       "4          2008          76.8                                cbse      11368   \n",
       "\n",
       "   CollegeTier       Degree                             Specialization  \\\n",
       "0            2  B.Tech/B.E.                       computer engineering   \n",
       "1            2  B.Tech/B.E.  electronics and communication engineering   \n",
       "2            2  B.Tech/B.E.                     information technology   \n",
       "3            1  B.Tech/B.E.                       computer engineering   \n",
       "4            2  B.Tech/B.E.  electronics and communication engineering   \n",
       "\n",
       "   collegeGPA  CollegeCityID  CollegeCityTier    CollegeState  GraduationYear  \\\n",
       "0       78.00           1141                0  Andhra Pradesh            2011   \n",
       "1       70.06           5807                0  Madhya Pradesh            2012   \n",
       "2       70.00             64                0   Uttar Pradesh            2014   \n",
       "3       74.64           6920                1           Delhi            2011   \n",
       "4       73.90          11368                0   Uttar Pradesh            2012   \n",
       "\n",
       "   English  Logical  Quant    Domain  ComputerProgramming  \\\n",
       "0      515      585    525  0.635979                  445   \n",
       "1      695      610    780  0.960603                   -1   \n",
       "2      615      545    370  0.450877                  395   \n",
       "3      635      585    625  0.974396                  615   \n",
       "4      545      625    465  0.124502                   -1   \n",
       "\n",
       "   ElectronicsAndSemicon  ComputerScience  MechanicalEngg  ElectricalEngg  \\\n",
       "0                     -1               -1              -1              -1   \n",
       "1                    466               -1              -1              -1   \n",
       "2                     -1               -1              -1              -1   \n",
       "3                     -1               -1              -1              -1   \n",
       "4                    233               -1              -1              -1   \n",
       "\n",
       "   TelecomEngg  CivilEngg  conscientiousness  agreeableness  extraversion  \\\n",
       "0           -1         -1             0.9737         0.8128        0.5269   \n",
       "1           -1         -1            -0.7335         0.3789        1.2396   \n",
       "2           -1         -1             0.2718         1.7109        0.1637   \n",
       "3           -1         -1             0.0464         0.3448       -0.3440   \n",
       "4           -1         -1            -0.8810        -0.2793       -1.0697   \n",
       "\n",
       "   nueroticism  openess_to_experience  Year                        Age  \\\n",
       "0      1.35490                -0.4455  2012 12107 days 14:20:08.854543   \n",
       "1     -0.10760                 0.8637  2013 12245 days 14:20:08.854543   \n",
       "2     -0.86820                 0.6721  2014 11211 days 14:20:08.854543   \n",
       "3     -0.40780                -0.9194  2011 12183 days 14:20:08.854543   \n",
       "4      0.09163                -0.1295  2014 11734 days 14:20:08.854543   \n",
       "\n",
       "   Present Age  \n",
       "0    33.169863  \n",
       "1    33.547945  \n",
       "2    30.715068  \n",
       "3    33.378082  \n",
       "4    32.147945  "
      ]
     },
     "execution_count": 95,
     "metadata": {},
     "output_type": "execute_result"
    }
   ],
   "source": [
    "df.head()"
   ]
  },
  {
   "cell_type": "code",
   "execution_count": null,
   "id": "becb3a0d",
   "metadata": {},
   "outputs": [],
   "source": []
  }
 ],
 "metadata": {
  "kernelspec": {
   "display_name": "python3.11",
   "language": "python",
   "name": "python3.11"
  },
  "language_info": {
   "codemirror_mode": {
    "name": "ipython",
    "version": 3
   },
   "file_extension": ".py",
   "mimetype": "text/x-python",
   "name": "python",
   "nbconvert_exporter": "python",
   "pygments_lexer": "ipython3",
   "version": "3.9.7"
  }
 },
 "nbformat": 4,
 "nbformat_minor": 5
}
